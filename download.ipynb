{
 "cells": [
  {
   "cell_type": "code",
   "execution_count": 1,
   "id": "e4e4cec1-0420-4dae-a0ea-a63d735e8fe9",
   "metadata": {},
   "outputs": [
    {
     "name": "stdout",
     "output_type": "stream",
     "text": [
      "--2025-02-16 05:06:11--  https://raw.githubusercontent.com/BlinkDL/ChatRWKV/refs/heads/main/tokenizer/rwkv_vocab_v20230424.txt\n",
      "Resolving raw.githubusercontent.com (raw.githubusercontent.com)... 185.199.108.133, 185.199.109.133, 185.199.110.133, ...\n",
      "Connecting to raw.githubusercontent.com (raw.githubusercontent.com)|185.199.108.133|:443... connected.\n",
      "HTTP request sent, awaiting response... 200 OK\n",
      "Length: 1093733 (1.0M) [text/plain]\n",
      "Saving to: ‘rwkv_vocab_v20230424.txt’\n",
      "\n",
      "rwkv_vocab_v2023042 100%[===================>]   1.04M  --.-KB/s    in 0.07s   \n",
      "\n",
      "2025-02-16 05:06:12 (14.5 MB/s) - ‘rwkv_vocab_v20230424.txt’ saved [1093733/1093733]\n",
      "\n"
     ]
    }
   ],
   "source": [
    "!wget https://raw.githubusercontent.com/BlinkDL/ChatRWKV/refs/heads/main/tokenizer/rwkv_vocab_v20230424.txt"
   ]
  },
  {
   "cell_type": "code",
   "execution_count": 2,
   "id": "8422f0aa-8a29-43b7-a8bc-58b05c49f5b7",
   "metadata": {},
   "outputs": [
    {
     "name": "stdout",
     "output_type": "stream",
     "text": [
      "--2025-02-16 05:06:58--  https://github.com/BlinkDL/ChatRWKV/raw/refs/heads/main/tokenizer/rwkv_tokenizer.py\n",
      "Resolving github.com (github.com)... 20.205.243.166\n",
      "Connecting to github.com (github.com)|20.205.243.166|:443... connected.\n",
      "HTTP request sent, awaiting response... 302 Found\n",
      "Location: https://raw.githubusercontent.com/BlinkDL/ChatRWKV/refs/heads/main/tokenizer/rwkv_tokenizer.py [following]\n",
      "--2025-02-16 05:06:59--  https://raw.githubusercontent.com/BlinkDL/ChatRWKV/refs/heads/main/tokenizer/rwkv_tokenizer.py\n",
      "Resolving raw.githubusercontent.com (raw.githubusercontent.com)... 185.199.110.133, 185.199.111.133, 185.199.108.133, ...\n",
      "Connecting to raw.githubusercontent.com (raw.githubusercontent.com)|185.199.110.133|:443... connected.\n",
      "HTTP request sent, awaiting response... 200 OK\n",
      "Length: 62163 (61K) [text/plain]\n",
      "Saving to: ‘rwkv_tokenizer.py’\n",
      "\n",
      "rwkv_tokenizer.py   100%[===================>]  60.71K  --.-KB/s    in 0.008s  \n",
      "\n",
      "2025-02-16 05:06:59 (7.48 MB/s) - ‘rwkv_tokenizer.py’ saved [62163/62163]\n",
      "\n"
     ]
    }
   ],
   "source": [
    "!wget https://github.com/BlinkDL/ChatRWKV/raw/refs/heads/main/tokenizer/rwkv_tokenizer.py"
   ]
  },
  {
   "cell_type": "code",
   "execution_count": null,
   "id": "2891900f-5715-4110-8c43-c7b6c0548344",
   "metadata": {},
   "outputs": [],
   "source": []
  }
 ],
 "metadata": {
  "kernelspec": {
   "display_name": "Python 3 (ipykernel)",
   "language": "python",
   "name": "python3"
  },
  "language_info": {
   "codemirror_mode": {
    "name": "ipython",
    "version": 3
   },
   "file_extension": ".py",
   "mimetype": "text/x-python",
   "name": "python",
   "nbconvert_exporter": "python",
   "pygments_lexer": "ipython3",
   "version": "3.10.12"
  }
 },
 "nbformat": 4,
 "nbformat_minor": 5
}
